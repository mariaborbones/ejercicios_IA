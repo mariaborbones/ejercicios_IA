{
 "cells": [
  {
   "cell_type": "markdown",
   "metadata": {},
   "source": [
    "<table style=\"border: none\" align=\"left\">\n",
    "   <tr style=\"border: none\">\n",
    "      <th style=\"border: none\"><font face=\"verdana\" size=\"5\" color=\"black\"><b>Predicting customer churn with IBM Watson Machine Learning</b></th>\n",
    "      <th style=\"border: none\"><img src=\"https://github.com/pmservice/customer-satisfaction-prediction/blob/master/app/static/images/ml_icon_gray.png?raw=true\" alt=\"Watson Machine Learning icon\" height=\"40\" width=\"40\"></th>\n",
    "  <tr style=\"border: none\">\n",
    "       <th style=\"border: none\"><img src=\"https://github.com/pmservice/wml-sample-models/blob/master/spark/customer-satisfaction-prediction/images/users_banner_2-03.png?raw=true\" width=\"600\" alt=\"Icon\"> </th>\n",
    "   </tr>\n",
    "</table>"
   ]
  },
  {
   "cell_type": "markdown",
   "metadata": {},
   "source": [
    "This notebook contains steps and code to develop a predictive model, and start scoring new data. This notebook introduces commands for getting data and for basic data cleaning and exploration, pipeline creation, model training, model persistance to Watson Machine Learning repository, model deployment, and scoring.\n",
    "\n",
    "Some familiarity with Python is helpful. This notebook uses Python 3.6\n",
    "\n",
    "You will use a data set, **Telco Customer Churn**, which details anonymous customers data of telecommunication company. Use the details of this data set to predict customer churn which is very critical to business as it's easier to retain existing customers rather than acquiring new ones.\n",
    "\n",
    "## Learning goals\n",
    "\n",
    "The learning goals of this notebook are:\n",
    "\n",
    "-  Load a CSV file into a DataFrame.\n",
    "-  Explore data.\n",
    "-  Prepare data for training and evaluation.\n",
    "-  Train and evaluate a model.\n",
    "-  Persist a pipeline and model in Watson Machine Learning repository.\n",
    "-  Deploy a model for online scoring using Wastson Machine Learning API.\n",
    "\n",
    "\n",
    "## Contents\n",
    "\n",
    "This notebook contains the following parts:\n",
    "\n",
    "1.\t[Setup](#setup)\n",
    "2.\t[Load and explore data](#load)\n",
    "3.\t[Create ml model](#model)\n",
    "4.\t[Persist model](#persistence)\n",
    "5.\t[Predict locally and visualize](#visualization)\n",
    "6.\t[Deploy and score in a Cloud](#scoring)\n",
    "7.\t[Summary and next steps](#summary)"
   ]
  },
  {
   "cell_type": "markdown",
   "metadata": {},
   "source": [
    "<a id=\"setup\"></a>\n",
    "## 1. Setup\n",
    "\n",
    "Before you use the sample code in this notebook, you must perform the following setup tasks:\n",
    "\n",
    "-  Create a [Watson Machine Learning Service](https://console.ng.bluemix.net/catalog/services/ibm-watson-machine-learning/) instance required for model storing and deployment (a free plan is offered).\n",
    "- Create a [Cloud Object Storage](https://console.bluemix.net/catalog/infrastructure/cloud-object-storage) instance required for storing scoring data (a free plan is offered).\n",
    "\n",
    "\n"
   ]
  },
  {
   "cell_type": "code",
   "execution_count": 59,
   "metadata": {},
   "outputs": [],
   "source": [
    "## Insertar datos aquí \n"
   ]
  },
  {
   "cell_type": "markdown",
   "metadata": {},
   "source": [
    "<a id=\"load\"></a>\n",
    "## 2. Load and explore data"
   ]
  },
  {
   "cell_type": "markdown",
   "metadata": {},
   "source": [
    "In this section you will load the data as a DataFrame and perform a basic exploration. "
   ]
  },
  {
   "cell_type": "code",
   "execution_count": 9,
   "metadata": {},
   "outputs": [
    {
     "data": {
      "text/html": [
       "<div>\n",
       "<style scoped>\n",
       "    .dataframe tbody tr th:only-of-type {\n",
       "        vertical-align: middle;\n",
       "    }\n",
       "\n",
       "    .dataframe tbody tr th {\n",
       "        vertical-align: top;\n",
       "    }\n",
       "\n",
       "    .dataframe thead th {\n",
       "        text-align: right;\n",
       "    }\n",
       "</style>\n",
       "<table border=\"1\" class=\"dataframe\">\n",
       "  <thead>\n",
       "    <tr style=\"text-align: right;\">\n",
       "      <th></th>\n",
       "      <th>ID</th>\n",
       "      <th>CHURN</th>\n",
       "      <th>Gender</th>\n",
       "      <th>Status</th>\n",
       "      <th>Children</th>\n",
       "      <th>Est Income</th>\n",
       "      <th>Car Owner</th>\n",
       "      <th>Age</th>\n",
       "      <th>LongDistance</th>\n",
       "      <th>International</th>\n",
       "      <th>Local</th>\n",
       "      <th>Dropped</th>\n",
       "      <th>Paymethod</th>\n",
       "      <th>LocalBilltype</th>\n",
       "      <th>LongDistanceBilltype</th>\n",
       "      <th>Usage</th>\n",
       "      <th>RatePlan</th>\n",
       "    </tr>\n",
       "  </thead>\n",
       "  <tbody>\n",
       "    <tr>\n",
       "      <th>0</th>\n",
       "      <td>1</td>\n",
       "      <td>T</td>\n",
       "      <td>F</td>\n",
       "      <td>S</td>\n",
       "      <td>1.0</td>\n",
       "      <td>38000.00</td>\n",
       "      <td>N</td>\n",
       "      <td>24.393333</td>\n",
       "      <td>23.56</td>\n",
       "      <td>0.0</td>\n",
       "      <td>206.08</td>\n",
       "      <td>0.0</td>\n",
       "      <td>CC</td>\n",
       "      <td>Budget</td>\n",
       "      <td>Intnl_discount</td>\n",
       "      <td>229.64</td>\n",
       "      <td>3.0</td>\n",
       "    </tr>\n",
       "    <tr>\n",
       "      <th>1</th>\n",
       "      <td>6</td>\n",
       "      <td>F</td>\n",
       "      <td>M</td>\n",
       "      <td>M</td>\n",
       "      <td>2.0</td>\n",
       "      <td>29616.00</td>\n",
       "      <td>N</td>\n",
       "      <td>49.426667</td>\n",
       "      <td>29.78</td>\n",
       "      <td>0.0</td>\n",
       "      <td>45.50</td>\n",
       "      <td>0.0</td>\n",
       "      <td>CH</td>\n",
       "      <td>FreeLocal</td>\n",
       "      <td>Standard</td>\n",
       "      <td>75.29</td>\n",
       "      <td>2.0</td>\n",
       "    </tr>\n",
       "    <tr>\n",
       "      <th>2</th>\n",
       "      <td>8</td>\n",
       "      <td>F</td>\n",
       "      <td>M</td>\n",
       "      <td>M</td>\n",
       "      <td>0.0</td>\n",
       "      <td>19732.80</td>\n",
       "      <td>N</td>\n",
       "      <td>50.673333</td>\n",
       "      <td>24.81</td>\n",
       "      <td>0.0</td>\n",
       "      <td>22.44</td>\n",
       "      <td>0.0</td>\n",
       "      <td>CC</td>\n",
       "      <td>FreeLocal</td>\n",
       "      <td>Standard</td>\n",
       "      <td>47.25</td>\n",
       "      <td>3.0</td>\n",
       "    </tr>\n",
       "    <tr>\n",
       "      <th>3</th>\n",
       "      <td>11</td>\n",
       "      <td>F</td>\n",
       "      <td>M</td>\n",
       "      <td>S</td>\n",
       "      <td>2.0</td>\n",
       "      <td>96.33</td>\n",
       "      <td>N</td>\n",
       "      <td>56.473333</td>\n",
       "      <td>26.13</td>\n",
       "      <td>0.0</td>\n",
       "      <td>32.88</td>\n",
       "      <td>1.0</td>\n",
       "      <td>CC</td>\n",
       "      <td>Budget</td>\n",
       "      <td>Standard</td>\n",
       "      <td>59.01</td>\n",
       "      <td>1.0</td>\n",
       "    </tr>\n",
       "    <tr>\n",
       "      <th>4</th>\n",
       "      <td>14</td>\n",
       "      <td>F</td>\n",
       "      <td>F</td>\n",
       "      <td>M</td>\n",
       "      <td>2.0</td>\n",
       "      <td>52004.80</td>\n",
       "      <td>N</td>\n",
       "      <td>25.140000</td>\n",
       "      <td>5.03</td>\n",
       "      <td>0.0</td>\n",
       "      <td>23.11</td>\n",
       "      <td>0.0</td>\n",
       "      <td>CH</td>\n",
       "      <td>Budget</td>\n",
       "      <td>Intnl_discount</td>\n",
       "      <td>28.14</td>\n",
       "      <td>1.0</td>\n",
       "    </tr>\n",
       "  </tbody>\n",
       "</table>\n",
       "</div>"
      ],
      "text/plain": [
       "   ID CHURN Gender Status  Children  Est Income Car Owner        Age  \\\n",
       "0   1     T      F      S       1.0    38000.00         N  24.393333   \n",
       "1   6     F      M      M       2.0    29616.00         N  49.426667   \n",
       "2   8     F      M      M       0.0    19732.80         N  50.673333   \n",
       "3  11     F      M      S       2.0       96.33         N  56.473333   \n",
       "4  14     F      F      M       2.0    52004.80         N  25.140000   \n",
       "\n",
       "   LongDistance  International   Local  Dropped Paymethod LocalBilltype  \\\n",
       "0         23.56            0.0  206.08      0.0        CC        Budget   \n",
       "1         29.78            0.0   45.50      0.0        CH     FreeLocal   \n",
       "2         24.81            0.0   22.44      0.0        CC     FreeLocal   \n",
       "3         26.13            0.0   32.88      1.0        CC        Budget   \n",
       "4          5.03            0.0   23.11      0.0        CH        Budget   \n",
       "\n",
       "  LongDistanceBilltype   Usage  RatePlan  \n",
       "0       Intnl_discount  229.64       3.0  \n",
       "1             Standard   75.29       2.0  \n",
       "2             Standard   47.25       3.0  \n",
       "3             Standard   59.01       1.0  \n",
       "4       Intnl_discount   28.14       1.0  "
      ]
     },
     "execution_count": 9,
     "metadata": {},
     "output_type": "execute_result"
    }
   ],
   "source": [
    "df_data.head()\n",
    "\n"
   ]
  },
  {
   "cell_type": "markdown",
   "metadata": {},
   "source": [
    "As you can see, the data contains 21 fields. \"Churn\" field is the one we would like to predict (label)."
   ]
  },
  {
   "cell_type": "code",
   "execution_count": 10,
   "metadata": {},
   "outputs": [
    {
     "name": "stdout",
     "output_type": "stream",
     "text": [
      "Total number of records: ID                      1799\n",
      "CHURN                   1799\n",
      "Gender                  1799\n",
      "Status                  1799\n",
      "Children                1799\n",
      "Est Income              1799\n",
      "Car Owner               1799\n",
      "Age                     1799\n",
      "LongDistance            1799\n",
      "International           1799\n",
      "Local                   1799\n",
      "Dropped                 1799\n",
      "Paymethod               1799\n",
      "LocalBilltype           1799\n",
      "LongDistanceBilltype    1799\n",
      "Usage                   1799\n",
      "RatePlan                1799\n",
      "dtype: int64\n"
     ]
    }
   ],
   "source": [
    "print(\"Total number of records: \" + str(df_data.count()))"
   ]
  },
  {
   "cell_type": "markdown",
   "metadata": {},
   "source": [
    "<a id=\"model\"></a>\n",
    "## 3. Create a machine learning model\n",
    "\n",
    "In this section you will learn how to prepare data, create a scikit-learn machine learning pipeline, and train a model."
   ]
  },
  {
   "cell_type": "code",
   "execution_count": 11,
   "metadata": {},
   "outputs": [],
   "source": [
    "from sklearn.preprocessing import OneHotEncoder\n",
    "from sklearn.tree import DecisionTreeClassifier\n",
    "from sklearn.impute import SimpleImputer\n",
    "from sklearn.compose import ColumnTransformer\n",
    "from sklearn.pipeline import Pipeline\n",
    "from sklearn.metrics import classification_report\n",
    "from sklearn.model_selection import train_test_split"
   ]
  },
  {
   "cell_type": "markdown",
   "metadata": {},
   "source": [
    "### 3.1: Prepare the pipeline\n",
    "\n",
    "Prepare pipeline to process categorical data and final processing pipeline\n",
    "We may want to add another preprocessing pipeline to handle numerical null values"
   ]
  },
  {
   "cell_type": "code",
   "execution_count": 12,
   "metadata": {},
   "outputs": [],
   "source": [
    "\n",
    "categorical_features = ['Gender','Status','Car Owner','Paymethod','LocalBilltype','LongDistanceBilltype']\n",
    "categorical_transformer = Pipeline(steps=[\n",
    "    ('imputer', SimpleImputer(strategy='constant', fill_value='missing')),\n",
    "    ('onehot', OneHotEncoder(handle_unknown='ignore'))])\n",
    "\n",
    "preprocessor = ColumnTransformer(\n",
    "    transformers=[\n",
    "        ('cat', categorical_transformer, categorical_features)])\n",
    "\n",
    "clf = Pipeline(steps=[('preprocessor', preprocessor),\n",
    "                      ('classifier', DecisionTreeClassifier())])"
   ]
  },
  {
   "cell_type": "markdown",
   "metadata": {},
   "source": [
    "Split into train and test"
   ]
  },
  {
   "cell_type": "code",
   "execution_count": 17,
   "metadata": {},
   "outputs": [],
   "source": [
    "\n",
    "X = df_data.drop('CHURN', axis=1)\n",
    "y = df_data['CHURN']\n",
    "\n",
    "X_train, X_test, y_train, y_test = train_test_split( X, y, test_size=0.2, random_state=4)\n"
   ]
  },
  {
   "cell_type": "markdown",
   "metadata": {},
   "source": [
    "As you can see our data has been successfully split into three datasets: \n",
    "\n",
    "-  The train data set, which is the largest group, is used for training.\n",
    "-  The test data set will be used for model evaluation and is used to test the assumptions of the model.\n",
    "-  The predict data set will be used for prediction."
   ]
  },
  {
   "cell_type": "markdown",
   "metadata": {},
   "source": [
    "### 3.2: Create pipeline and train a model"
   ]
  },
  {
   "cell_type": "markdown",
   "metadata": {},
   "source": [
    "We train the model"
   ]
  },
  {
   "cell_type": "code",
   "execution_count": 18,
   "metadata": {},
   "outputs": [
    {
     "name": "stdout",
     "output_type": "stream",
     "text": [
      "model score: 0.756\n",
      "              precision    recall  f1-score   support\n",
      "\n",
      "       False       0.79      0.80      0.79       213\n",
      "        True       0.70      0.69      0.70       147\n",
      "\n",
      "   micro avg       0.76      0.76      0.76       360\n",
      "   macro avg       0.75      0.75      0.75       360\n",
      "weighted avg       0.76      0.76      0.76       360\n",
      "\n"
     ]
    }
   ],
   "source": [
    "model = clf.fit(X_train, y_train)\n",
    "res_predict = model.predict(X_test)\n",
    "print(\"model score: %.3f\" % clf.score(X_test, y_test))\n",
    "print(classification_report(y_test, res_predict, target_names=[\"False\", \"True\"]))"
   ]
  },
  {
   "cell_type": "markdown",
   "metadata": {},
   "source": [
    "<a id=\"persistence\"></a>\n",
    "## 4. Persist model"
   ]
  },
  {
   "cell_type": "markdown",
   "metadata": {},
   "source": [
    "In this section you will learn how to store your pipeline and model in Watson Machine Learning repository by using python client libraries."
   ]
  },
  {
   "cell_type": "markdown",
   "metadata": {},
   "source": [
    "First, you must import Watson Machine Learning client libraries."
   ]
  },
  {
   "cell_type": "code",
   "execution_count": 19,
   "metadata": {},
   "outputs": [],
   "source": [
    "!rm -rf $PIP_BUILD/watson-machine-learning-client"
   ]
  },
  {
   "cell_type": "code",
   "execution_count": 20,
   "metadata": {},
   "outputs": [
    {
     "name": "stdout",
     "output_type": "stream",
     "text": [
      "Collecting watson-machine-learning-client\n",
      "\u001b[?25l  Downloading https://files.pythonhosted.org/packages/12/67/66db412f00d19bfdc5725078bff373787513bfb14320f2804b9db3abb53a/watson_machine_learning_client-1.0.378-py3-none-any.whl (536kB)\n",
      "\u001b[K     |████████████████████████████████| 542kB 8.1MB/s eta 0:00:01\n",
      "\u001b[?25hRequirement already satisfied, skipping upgrade: certifi in /opt/conda/envs/Python36/lib/python3.6/site-packages (from watson-machine-learning-client) (2019.11.28)\n",
      "Requirement already satisfied, skipping upgrade: pandas in /opt/conda/envs/Python36/lib/python3.6/site-packages (from watson-machine-learning-client) (0.24.1)\n",
      "Requirement already satisfied, skipping upgrade: tabulate in /opt/conda/envs/Python36/lib/python3.6/site-packages (from watson-machine-learning-client) (0.8.2)\n",
      "Requirement already satisfied, skipping upgrade: urllib3 in /opt/conda/envs/Python36/lib/python3.6/site-packages (from watson-machine-learning-client) (1.24.1)\n",
      "Requirement already satisfied, skipping upgrade: requests in /opt/conda/envs/Python36/lib/python3.6/site-packages (from watson-machine-learning-client) (2.21.0)\n",
      "Requirement already satisfied, skipping upgrade: lomond in /opt/conda/envs/Python36/lib/python3.6/site-packages (from watson-machine-learning-client) (0.3.3)\n",
      "Requirement already satisfied, skipping upgrade: ibm-cos-sdk in /opt/conda/envs/Python36/lib/python3.6/site-packages (from watson-machine-learning-client) (2.4.3)\n",
      "Requirement already satisfied, skipping upgrade: tqdm in /opt/conda/envs/Python36/lib/python3.6/site-packages (from watson-machine-learning-client) (4.31.1)\n",
      "Requirement already satisfied, skipping upgrade: numpy>=1.12.0 in /opt/conda/envs/Python36/lib/python3.6/site-packages (from pandas->watson-machine-learning-client) (1.15.4)\n",
      "Requirement already satisfied, skipping upgrade: python-dateutil>=2.5.0 in /opt/conda/envs/Python36/lib/python3.6/site-packages (from pandas->watson-machine-learning-client) (2.7.5)\n",
      "Requirement already satisfied, skipping upgrade: pytz>=2011k in /opt/conda/envs/Python36/lib/python3.6/site-packages (from pandas->watson-machine-learning-client) (2018.9)\n",
      "Requirement already satisfied, skipping upgrade: chardet<3.1.0,>=3.0.2 in /opt/conda/envs/Python36/lib/python3.6/site-packages (from requests->watson-machine-learning-client) (3.0.4)\n",
      "Requirement already satisfied, skipping upgrade: idna<2.9,>=2.5 in /opt/conda/envs/Python36/lib/python3.6/site-packages (from requests->watson-machine-learning-client) (2.8)\n",
      "Requirement already satisfied, skipping upgrade: six>=1.10.0 in /opt/conda/envs/Python36/lib/python3.6/site-packages (from lomond->watson-machine-learning-client) (1.12.0)\n",
      "Requirement already satisfied, skipping upgrade: ibm-cos-sdk-core==2.*,>=2.0.0 in /opt/conda/envs/Python36/lib/python3.6/site-packages (from ibm-cos-sdk->watson-machine-learning-client) (2.4.3)\n",
      "Requirement already satisfied, skipping upgrade: ibm-cos-sdk-s3transfer==2.*,>=2.0.0 in /opt/conda/envs/Python36/lib/python3.6/site-packages (from ibm-cos-sdk->watson-machine-learning-client) (2.4.3)\n",
      "Requirement already satisfied, skipping upgrade: docutils>=0.10 in /opt/conda/envs/Python36/lib/python3.6/site-packages (from ibm-cos-sdk-core==2.*,>=2.0.0->ibm-cos-sdk->watson-machine-learning-client) (0.14)\n",
      "Requirement already satisfied, skipping upgrade: jmespath<1.0.0,>=0.7.1 in /opt/conda/envs/Python36/lib/python3.6/site-packages (from ibm-cos-sdk-core==2.*,>=2.0.0->ibm-cos-sdk->watson-machine-learning-client) (0.9.3)\n",
      "Installing collected packages: watson-machine-learning-client\n",
      "  Found existing installation: watson-machine-learning-client 1.0.376\n",
      "    Uninstalling watson-machine-learning-client-1.0.376:\n",
      "      Successfully uninstalled watson-machine-learning-client-1.0.376\n",
      "Successfully installed watson-machine-learning-client-1.0.378\n"
     ]
    }
   ],
   "source": [
    "!pip install watson-machine-learning-client --upgrade"
   ]
  },
  {
   "cell_type": "code",
   "execution_count": 21,
   "metadata": {},
   "outputs": [
    {
     "name": "stderr",
     "output_type": "stream",
     "text": [
      "2020-04-02 18:36:12,966 - watson_machine_learning_client.wml_client_error - WARNING - Publishing model failed.\n",
      "Reason: (500)\n",
      "Reason: Internal Server Error\n",
      "HTTP response headers: HTTPHeaderDict({'Server': 'nginx', 'Date': 'Thu, 02 Apr 2020 18:36:12 GMT', 'Content-Type': 'application/json', 'Content-Length': '172', 'Connection': 'keep-alive', 'X-Frame-Options': 'DENY', 'X-Content-Type-Options': 'nosniff', 'X-XSS-Protection': '1', 'Pragma': 'no-cache', 'Cache-Control': 'private, no-cache, no-store, must-revalidate', 'X-WML-User-Client': 'PythonClient', 'x-global-transaction-id': '23d1e645999i92lfhede8fkba9ku112925az', 'Strict-Transport-Security': 'max-age=31536000; includeSubDomains'})\n",
      "HTTP response body: {\"trace\":\"1tbredbipzq5d\",\"errors\":[{\"code\":\"unhandled_exception_with_message\",\"message\":\"Unhandled exception of type TenantMismatchForRecord with message: None provided\"}]}\n",
      "\n"
     ]
    }
   ],
   "source": [
    "from watson_machine_learning_client import WatsonMachineLearningAPIClient"
   ]
  },
  {
   "cell_type": "markdown",
   "metadata": {},
   "source": [
    "Authenticate to Watson Machine Learning service on Bluemix."
   ]
  },
  {
   "cell_type": "markdown",
   "metadata": {},
   "source": [
    "**Action**: Put credentials from your instance of Watson Machine Learning service in Bluemix here.</div>"
   ]
  },
  {
   "cell_type": "code",
   "execution_count": 22,
   "metadata": {},
   "outputs": [],
   "source": [
<<<<<<< HEAD
    "wml_credentials = {\n",
    " \n",
    "}"
=======
    "wml_credentials = {
    }
>>>>>>> be59714e923e873ad3566024345f0c80159024bb
   ]
  },
  {
   "cell_type": "code",
   "execution_count": 23,
   "metadata": {},
   "outputs": [],
   "source": [
    "client = WatsonMachineLearningAPIClient(wml_credentials)"
   ]
  },
  {
   "cell_type": "markdown",
   "metadata": {},
   "source": [
    "### 4.1: Save pipeline and model"
   ]
  },
  {
   "cell_type": "markdown",
   "metadata": {},
   "source": [
    "In this subsection you will learn how to save pipeline and model artifacts to your Watson Machine Learning instance."
   ]
  },
  {
   "cell_type": "code",
   "execution_count": 24,
   "metadata": {},
   "outputs": [
    {
     "data": {
      "text/plain": [
       "'0.20.3'"
      ]
     },
     "execution_count": 24,
     "metadata": {},
     "output_type": "execute_result"
    }
   ],
   "source": [
    "# Checking the sklearn version we are using\n",
    "import sklearn\n",
    "sklearn.__version__"
   ]
  },
  {
   "cell_type": "code",
   "execution_count": 27,
   "metadata": {},
   "outputs": [],
   "source": [
    "saved_model = client.repository.store_model(model=model, meta_props={'name':'telco churn prediction model'})"
   ]
  },
  {
   "cell_type": "markdown",
   "metadata": {},
   "source": [
    "Get saved model metadata from Watson Machine Learning."
   ]
  },
  {
   "cell_type": "code",
   "execution_count": 28,
   "metadata": {},
   "outputs": [
    {
     "name": "stdout",
     "output_type": "stream",
     "text": [
      "Model Id: 63887535-c01f-495e-9141-e9ea65f2dbc0\n"
     ]
    }
   ],
   "source": [
    "published_model_ID = client.repository.get_model_uid(saved_model)\n",
    "\n",
    "print(\"Model Id: \" + str(published_model_ID))"
   ]
  },
  {
   "cell_type": "markdown",
   "metadata": {},
   "source": [
    "**Model Id** can be used to retrive latest model version from Watson Machine Learning instance."
   ]
  },
  {
   "cell_type": "markdown",
   "metadata": {},
   "source": [
    "## Get ML instance details"
   ]
  },
  {
   "cell_type": "code",
   "execution_count": 29,
   "metadata": {},
   "outputs": [
    {
     "name": "stdout",
     "output_type": "stream",
     "text": [
      "{\n",
      "  \"metadata\": {\n",
      "    \"guid\": \"cb024e31-0448-4b71-8213-4046aa0a1198\",\n",
      "    \"url\": \"https://us-south.ml.cloud.ibm.com/v3/wml_instances/cb024e31-0448-4b71-8213-4046aa0a1198\",\n",
      "    \"created_at\": \"2020-04-02T18:04:36.783Z\",\n",
      "    \"modified_at\": \"2020-04-02T18:37:52.095Z\"\n",
      "  },\n",
      "  \"entity\": {\n",
      "    \"source\": \"Bluemix\",\n",
      "    \"published_models\": {\n",
      "      \"url\": \"https://us-south.ml.cloud.ibm.com/v3/wml_instances/cb024e31-0448-4b71-8213-4046aa0a1198/published_models\"\n",
      "    },\n",
      "    \"usage\": {\n",
      "      \"expiration_date\": \"2020-05-01T00:00:00.000Z\",\n",
      "      \"computation_time\": {\n",
      "        \"limit\": 180000,\n",
      "        \"current\": 0\n",
      "      },\n",
      "      \"gpu_count_k80\": {\n",
      "        \"limit\": 8,\n",
      "        \"current\": 0\n",
      "      },\n",
      "      \"model_count\": {\n",
      "        \"limit\": 200,\n",
      "        \"current\": 1\n",
      "      },\n",
      "      \"gpu_count_p100\": {\n",
      "        \"limit\": 0,\n",
      "        \"current\": 0\n",
      "      },\n",
      "      \"prediction_count\": {\n",
      "        \"limit\": 5000,\n",
      "        \"current\": 0\n",
      "      },\n",
      "      \"capacity_units\": {\n",
      "        \"limit\": 180000000,\n",
      "        \"current\": 0\n",
      "      },\n",
      "      \"deployment_count\": {\n",
      "        \"limit\": 5,\n",
      "        \"current\": 0\n",
      "      },\n",
      "      \"gpu_count_v100\": {\n",
      "        \"limit\": 0,\n",
      "        \"current\": 0\n",
      "      }\n",
      "    },\n",
      "    \"tags\": null,\n",
      "    \"plan_id\": \"3f6acf43-ede8-413a-ac69-f8af3bb0cbfe\",\n",
      "    \"service_endpoints\": \"public\",\n",
      "    \"status\": \"Active\",\n",
      "    \"organization_guid\": \"N/A\",\n",
      "    \"region\": \"us-south\",\n",
      "    \"account\": {\n",
      "      \"id\": \"290f8f438c15a26b2b129419c1c1b952\",\n",
      "      \"name\": \"maria borbon\\u00e9s's Account\",\n",
      "      \"type\": \"TRIAL\"\n",
      "    },\n",
      "    \"owner\": {\n",
      "      \"ibm_id\": \"2700057BDV\",\n",
      "      \"email\": \"maria.borbones@es.ibm.com\",\n",
      "      \"user_id\": \"bf152db0-d02f-4961-98a1-11929443c013\",\n",
      "      \"country_code\": \"ESP\",\n",
      "      \"beta_user\": true\n",
      "    },\n",
      "    \"deployments\": {\n",
      "      \"url\": \"https://us-south.ml.cloud.ibm.com/v3/wml_instances/cb024e31-0448-4b71-8213-4046aa0a1198/deployments\"\n",
      "    },\n",
      "    \"space_guid\": \"N/A\",\n",
      "    \"plan\": \"lite\"\n",
      "  }\n",
      "}\n"
     ]
    }
   ],
   "source": [
    "import json\n",
    "\n",
    "instance_details = client.service_instance.get_details()\n",
    "\n",
    "print(json.dumps(instance_details, indent=2))"
   ]
  },
  {
   "cell_type": "markdown",
   "metadata": {},
   "source": [
    "#### Get published_models details"
   ]
  },
  {
   "cell_type": "code",
   "execution_count": 30,
   "metadata": {},
   "outputs": [
    {
     "name": "stdout",
     "output_type": "stream",
     "text": [
      "{\n",
      "  \"metadata\": {\n",
      "    \"guid\": \"63887535-c01f-495e-9141-e9ea65f2dbc0\",\n",
      "    \"url\": \"https://us-south.ml.cloud.ibm.com/v3/wml_instances/cb024e31-0448-4b71-8213-4046aa0a1198/published_models/63887535-c01f-495e-9141-e9ea65f2dbc0\",\n",
      "    \"created_at\": \"2020-04-02T18:37:51.929Z\",\n",
      "    \"modified_at\": \"2020-04-02T18:37:52.000Z\"\n",
      "  },\n",
      "  \"entity\": {\n",
      "    \"runtime_environment\": \"python-3.6\",\n",
      "    \"learning_configuration_url\": \"https://us-south.ml.cloud.ibm.com/v3/wml_instances/cb024e31-0448-4b71-8213-4046aa0a1198/published_models/63887535-c01f-495e-9141-e9ea65f2dbc0/learning_configuration\",\n",
      "    \"name\": \"telco churn prediction model\",\n",
      "    \"learning_iterations_url\": \"https://us-south.ml.cloud.ibm.com/v3/wml_instances/cb024e31-0448-4b71-8213-4046aa0a1198/published_models/63887535-c01f-495e-9141-e9ea65f2dbc0/learning_iterations\",\n",
      "    \"feedback_url\": \"https://us-south.ml.cloud.ibm.com/v3/wml_instances/cb024e31-0448-4b71-8213-4046aa0a1198/published_models/63887535-c01f-495e-9141-e9ea65f2dbc0/feedback\",\n",
      "    \"latest_version\": {\n",
      "      \"url\": \"https://us-south.ml.cloud.ibm.com/v3/ml_assets/models/63887535-c01f-495e-9141-e9ea65f2dbc0/versions/5ae19fd8-59f8-4966-b672-a52b35417aba\",\n",
      "      \"guid\": \"5ae19fd8-59f8-4966-b672-a52b35417aba\",\n",
      "      \"created_at\": \"2020-04-02T18:37:52.000Z\"\n",
      "    },\n",
      "    \"model_type\": \"scikit-learn-0.20\",\n",
      "    \"deployments\": {\n",
      "      \"count\": 0,\n",
      "      \"url\": \"https://us-south.ml.cloud.ibm.com/v3/wml_instances/cb024e31-0448-4b71-8213-4046aa0a1198/published_models/63887535-c01f-495e-9141-e9ea65f2dbc0/deployments\"\n",
      "    },\n",
      "    \"evaluation_metrics_url\": \"https://us-south.ml.cloud.ibm.com/v3/wml_instances/cb024e31-0448-4b71-8213-4046aa0a1198/published_models/63887535-c01f-495e-9141-e9ea65f2dbc0/evaluation_metrics\"\n",
      "  }\n",
      "}\n"
     ]
    }
   ],
   "source": [
    "published_model_uid = client.repository.get_model_uid(saved_model)\n",
    "model_details = client.repository.get_details(published_model_ID)\n",
    "print(json.dumps(model_details, indent=2))"
   ]
  },
  {
   "cell_type": "markdown",
   "metadata": {},
   "source": [
    "####  Create deployment"
   ]
  },
  {
   "cell_type": "code",
   "execution_count": 44,
   "metadata": {},
   "outputs": [
    {
     "name": "stdout",
     "output_type": "stream",
     "text": [
      "\n",
      "\n",
      "#######################################################################################\n",
      "\n",
      "Synchronous deployment creation for uid: '63887535-c01f-495e-9141-e9ea65f2dbc0' started\n",
      "\n",
      "#######################################################################################\n",
      "\n",
      "\n",
      "INITIALIZING\n",
      "DEPLOY_SUCCESS\n",
      "\n",
      "\n",
      "------------------------------------------------------------------------------------------------\n",
      "Successfully finished deployment creation, deployment_uid='847856a3-56be-44da-8c06-b4ef93d2cab5'\n",
      "------------------------------------------------------------------------------------------------\n",
      "\n",
      "\n"
     ]
    }
   ],
   "source": [
    "deployment_name   = \"Web Service\"\n",
    "deployment_desc  = \"Online deployment of Python customer churn\"\n",
    "deployment       = client.deployments.create( published_model_ID, deployment_name, deployment_desc )\n",
    "scoring_endpoint = client.deployments.get_scoring_url( deployment )\n"
   ]
  },
  {
   "cell_type": "code",
   "execution_count": 45,
   "metadata": {},
   "outputs": [
    {
     "name": "stdout",
     "output_type": "stream",
     "text": [
      "------------------------------------  -----------  ------  --------------  ------------------------  -----------------  -------------\n",
      "GUID                                  NAME         TYPE    STATE           CREATED                   FRAMEWORK          ARTIFACT TYPE\n",
      "847856a3-56be-44da-8c06-b4ef93d2cab5  Web Service  online  DEPLOY_SUCCESS  2020-04-02T18:43:31.966Z  scikit-learn-0.20  model\n",
      "fadcf709-8594-492e-bceb-bd6de2e21b45  Web Service  online  DEPLOY_SUCCESS  2020-04-02T18:38:12.016Z  scikit-learn-0.20  model\n",
      "------------------------------------  -----------  ------  --------------  ------------------------  -----------------  -------------\n"
     ]
    }
   ],
   "source": [
    "# See that it was deployed\n",
    "client.deployments.list()"
   ]
  },
  {
   "cell_type": "markdown",
   "metadata": {},
   "source": [
    "## Accessing deployed model"
   ]
  },
  {
   "cell_type": "code",
   "execution_count": 46,
   "metadata": {},
   "outputs": [
    {
     "data": {
      "text/plain": [
       "{'fields': ['prediction', 'probability'],\n",
       " 'values': [['T', [0.1935483870967742, 0.8064516129032258]],\n",
       "  ['T', [0.2857142857142857, 0.7142857142857143]]]}"
      ]
     },
     "execution_count": 46,
     "metadata": {},
     "output_type": "execute_result"
    }
   ],
   "source": [
    "scoring_payload = {'fields': ['ID','Gender','Status','Children','Est Income','Car Owner',\n",
    "                              'Age','LongDistance','International','Local','Dropped',\n",
    "                              'Paymethod','LocalBilltype','LongDistanceBilltype',\n",
    "                              'Usage','RatePlan'],\n",
    "                   'values': [[1,0,0,1.0,38000.0,'N',24.393333,23.56,0.0,206.08,0.0,'CC','Budget','Intnl_discount',229.64,3.0],\n",
    "                              [6,1,'M',2.0,29616.0,'N',49.426667,29.78,0.0,45.5,0.0,  'CH','FreeLocal','Standard',75.29,2.0]\n",
    "                             ]} \n",
    "deploy_uid = client.deployments.get_uid(deployment)\n",
    "predictions = client.deployments.score(scoring_endpoint, scoring_payload)\n",
    "predictions"
   ]
  },
  {
   "cell_type": "code",
   "execution_count": 47,
   "metadata": {},
   "outputs": [
    {
     "name": "stdout",
     "output_type": "stream",
     "text": [
      "Prediction: T, probability: [0.1935483870967742, 0.8064516129032258]\n",
      "Prediction: T, probability: [0.2857142857142857, 0.7142857142857143]\n"
     ]
    }
   ],
   "source": [
    "for prediction in predictions['values'] :\n",
    "    print(\"Prediction: {}, probability: {}\".format(prediction[0],prediction[1]) )"
   ]
  },
  {
   "cell_type": "markdown",
   "metadata": {},
   "source": [
    "## Cleanup\n",
    "Remove the two models that we deployed in this notebook and the model we saved. This way, we reset the environment to where it was before we stated executing the notebook."
   ]
  },
  {
   "cell_type": "code",
   "execution_count": 48,
   "metadata": {},
   "outputs": [
    {
     "name": "stdout",
     "output_type": "stream",
     "text": [
      "------------------------------------  -----------  ------  --------------  ------------------------  -----------------  -------------\n",
      "GUID                                  NAME         TYPE    STATE           CREATED                   FRAMEWORK          ARTIFACT TYPE\n",
      "847856a3-56be-44da-8c06-b4ef93d2cab5  Web Service  online  DEPLOY_SUCCESS  2020-04-02T18:43:31.966Z  scikit-learn-0.20  model\n",
      "fadcf709-8594-492e-bceb-bd6de2e21b45  Web Service  online  DEPLOY_SUCCESS  2020-04-02T18:38:12.016Z  scikit-learn-0.20  model\n",
      "------------------------------------  -----------  ------  --------------  ------------------------  -----------------  -------------\n"
     ]
    }
   ],
   "source": [
    "# list the existing deployments to see what we currently have\n",
    "client.deployments.list()\n"
   ]
  },
  {
   "cell_type": "code",
   "execution_count": 53,
   "metadata": {},
   "outputs": [
    {
     "name": "stdout",
     "output_type": "stream",
     "text": [
      "----  ----  ----  -----  -------  ---------  -------------\n",
      "GUID  NAME  TYPE  STATE  CREATED  FRAMEWORK  ARTIFACT TYPE\n",
      "----  ----  ----  -----  -------  ---------  -------------\n"
     ]
    }
   ],
   "source": [
    "# Retrieve the deployment details we want to remove\n",
    "deployments_details = client.deployments.get_details()\n",
    "model_deployed_details = next(item for item in deployments_details['resources']\n",
    "                    if item['entity'][\"name\"] == \"Web Service\")\n",
    "\n",
    "\n",
    "client.deployments.delete(client.deployments.get_uid(model_deployed_details))\n",
    "\n",
    "# See if the deployments were removed\n",
    "client.deployments.list()"
   ]
  },
  {
   "cell_type": "code",
   "execution_count": 54,
   "metadata": {},
   "outputs": [
    {
     "name": "stdout",
     "output_type": "stream",
     "text": [
      "------------------------------------  ----------------------------  ------------------------  -----------------\n",
      "GUID                                  NAME                          CREATED                   FRAMEWORK\n",
      "63887535-c01f-495e-9141-e9ea65f2dbc0  telco churn prediction model  2020-04-02T18:37:51.929Z  scikit-learn-0.20\n",
      "------------------------------------  ----------------------------  ------------------------  -----------------\n"
     ]
    }
   ],
   "source": [
    "# list the models currently in our WML service\n",
    "client.repository.list_models()"
   ]
  },
  {
   "cell_type": "code",
   "execution_count": 55,
   "metadata": {},
   "outputs": [
    {
     "name": "stdout",
     "output_type": "stream",
     "text": [
      "----  ----  -------  ---------\n",
      "GUID  NAME  CREATED  FRAMEWORK\n",
      "----  ----  -------  ---------\n"
     ]
    }
   ],
   "source": [
    "# We still have the saved_model variable that includes the model details.\n",
    "client.repository.delete(saved_model['metadata']['guid'])\n",
    "client.repository.list_models()"
   ]
  },
  {
   "cell_type": "code",
   "execution_count": null,
   "metadata": {},
   "outputs": [],
   "source": []
  }
 ],
 "metadata": {
  "kernelspec": {
   "display_name": "Python 3",
   "language": "python",
   "name": "python3"
  },
  "language_info": {
   "codemirror_mode": {
    "name": "ipython",
    "version": 3
   },
   "file_extension": ".py",
   "mimetype": "text/x-python",
   "name": "python",
   "nbconvert_exporter": "python",
   "pygments_lexer": "ipython3",
   "version": "3.6.4"
  }
 },
 "nbformat": 4,
 "nbformat_minor": 2
}
